{
 "cells": [
  {
   "cell_type": "code",
   "execution_count": 17,
   "metadata": {},
   "outputs": [],
   "source": [
    "import numpy as np\n",
    "import pandas as pd\n",
    "from IPython.display import display, HTML\n",
    "\n",
    "# load and display data\n",
    "data = pd.read_csv('Case1_Data.csv')\n",
    "pd.options.display.max_rows = 100\n",
    "pd.options.display.max_columns = 100\n",
    "\n",
    "# display(data)"
   ]
  },
  {
   "cell_type": "code",
   "execution_count": 18,
   "metadata": {},
   "outputs": [
    {
     "name": "stdout",
     "output_type": "stream",
     "text": [
      "('We have', 100, 'training observations and', 1000, 'prediction observations')\n"
     ]
    }
   ],
   "source": [
    "# split data in training / prediction based of Y value\n",
    "training = data.loc[data['Y'].notnull()]\n",
    "prediction = data.loc[data['Y'].isnull()]\n",
    "\n",
    "print ('We have', len(training), 'training observations and', len(prediction), 'prediction observations')"
   ]
  },
  {
   "cell_type": "code",
   "execution_count": 44,
   "metadata": {},
   "outputs": [
    {
     "ename": "TypeError",
     "evalue": "as_matrix() got an unexpected keyword argument 'dtype'",
     "output_type": "error",
     "traceback": [
      "\u001b[0;31m---------------------------------------------------------------------------\u001b[0m",
      "\u001b[0;31mTypeError\u001b[0m                                 Traceback (most recent call last)",
      "\u001b[0;32m<ipython-input-44-41487ca59d90>\u001b[0m in \u001b[0;36m<module>\u001b[0;34m()\u001b[0m\n\u001b[0;32m----> 1\u001b[0;31m \u001b[0mtrain_y\u001b[0m \u001b[0;34m=\u001b[0m \u001b[0mtraining\u001b[0m\u001b[0;34m[\u001b[0m\u001b[0;34m'Y'\u001b[0m\u001b[0;34m]\u001b[0m\u001b[0;34m.\u001b[0m\u001b[0mas_matrix\u001b[0m\u001b[0;34m(\u001b[0m\u001b[0mdtype\u001b[0m\u001b[0;34m=\u001b[0m\u001b[0mfloat\u001b[0m\u001b[0;34m)\u001b[0m\u001b[0;34m\u001b[0m\u001b[0m\n\u001b[0m\u001b[1;32m      2\u001b[0m \u001b[0mtrain_X\u001b[0m \u001b[0;34m=\u001b[0m \u001b[0mtraining\u001b[0m\u001b[0;34m[\u001b[0m\u001b[0;34m[\u001b[0m\u001b[0mcol\u001b[0m \u001b[0;32mfor\u001b[0m \u001b[0mcol\u001b[0m \u001b[0;32min\u001b[0m \u001b[0mtraining\u001b[0m\u001b[0;34m.\u001b[0m\u001b[0mcolumns\u001b[0m \u001b[0;32mif\u001b[0m \u001b[0mcol\u001b[0m \u001b[0;34m!=\u001b[0m \u001b[0;34m'Y'\u001b[0m\u001b[0;34m]\u001b[0m\u001b[0;34m]\u001b[0m\u001b[0;34m.\u001b[0m\u001b[0mas_matrix\u001b[0m\u001b[0;34m(\u001b[0m\u001b[0mdtype\u001b[0m\u001b[0;34m=\u001b[0m\u001b[0mfloat\u001b[0m\u001b[0;34m)\u001b[0m\u001b[0;34m\u001b[0m\u001b[0m\n",
      "\u001b[0;31mTypeError\u001b[0m: as_matrix() got an unexpected keyword argument 'dtype'"
     ]
    }
   ],
   "source": [
    "train_y = training['Y'].as_matrix()\n",
    "train_X = training[[col for col in training.columns if col != 'Y']].as_matrix()\n"
   ]
  },
  {
   "cell_type": "markdown",
   "metadata": {},
   "source": [
    "## Printing a row to verify that the function removes the nan"
   ]
  },
  {
   "cell_type": "code",
   "execution_count": 20,
   "metadata": {},
   "outputs": [
    {
     "name": "stdout",
     "output_type": "stream",
     "text": [
      "[3.97285392222803 -1.13609266459014 2.24472023894437 3.2882903537022297\n",
      " 0.16458526517902403 3.0677475438827 2.73687621565302 1.9468708682615603\n",
      " 4.954474902144209 nan -0.335626460992474 1.85575908022567 3.63276609676462\n",
      " 1.65256467549402 0.267932078229213 1.9439147635345602 2.88629888715096\n",
      " 4.61877588054924 0.8539508879783809 2.9116739565293903 4.47021894031954\n",
      " 1.17889064057854 2.5869278824593 2.46381501851865 3.18541109901115\n",
      " 1.4022002381594598 1.4153961256394199 2.75423679935718 2.0671853432220804\n",
      " 3.1212350531801403 2.75365312974546 6.54158681741213 4.1578057398381505\n",
      " 2.23284956506475 2.57066955088036 -0.27893370759489694 3.11663723168109\n",
      " 4.118628175442661 3.7214264254542 0.559071901727219 1.2533074956961598\n",
      " 5.389324936875499 0.7400425005617741 1.6480763906526001 2.03568391354468\n",
      " 2.8378198587654797 1.59082109735179 4.48458871221162 7.068600776489661\n",
      " 2.29705355614881 1.17765744653979 -0.57653056682252 2.48757006009932\n",
      " 3.566022771139 4.052860618456431 1.39793797903212 1.4013458774339802\n",
      " 2.6492751110741497 4.76887006673921 4.07440467984025 3.5593159022625103\n",
      " 3.00033112543968 4.16875054227098 2.19317307182671 2.62604431677491\n",
      " 3.8522735351940094 3.11159365489505 6.073759147363269 3.9128610911347903\n",
      " 5.33520766373963 1.64937855989992 4.57040130558203 4.60419747200703\n",
      " 0.25571136917902804 0.5597504007229921 1.21302599940849\n",
      " -3.2566794791177305 1.9755680678216099 4.2030902863516895 3.17977796032668\n",
      " 7.751667815628131 3.5394395830349303 1.45981403435826 2.54123799703613\n",
      " 3.1163518150763796 0.0269673984648892 3.3319281471894997\n",
      " -1.3681164668263799 -0.589899015389607 2.87518342050457 4.25038002026071\n",
      " 0.46930841751299895 2.15960484125008 0.782398982595705 4.04049830033272\n",
      " 5.16016839742576 5.66199990926589 5.049502920976691 2.63456229071959\n",
      " 4.71074232194103]\n"
     ]
    }
   ],
   "source": [
    "print (train_X[:,16])"
   ]
  },
  {
   "cell_type": "code",
   "execution_count": 21,
   "metadata": {
    "collapsed": true
   },
   "outputs": [],
   "source": [
    "def missing_predictor_as_mean(training_data):\n",
    "    data = np.copy(training_data)\n",
    "    for i, column in enumerate(data.T):\n",
    "            # column = train_X[column].as_matrix()\n",
    "            column_without_nan = column[~np.isnan(np.array(column, dtype=float))]\n",
    "            column_mean = column_without_nan.mean()\n",
    "            # print( column_without_nan.mean() )\n",
    "            for predictor_index in range(len(column)):\n",
    "                if pd.isnull(np.array(column[predictor_index], dtype=float)):\n",
    "                    column[predictor_index] = column_mean\n",
    "\n",
    "            data.T[i, :] = column\n",
    "    return data\n"
   ]
  },
  {
   "cell_type": "code",
   "execution_count": 41,
   "metadata": {},
   "outputs": [],
   "source": [
    "def missing_predictor_as_value(data_set, value):\n",
    "    data = np.copy(data_set, dtype=float)\n",
    "    data[pd.isnull(np.array(data_set, dtype=float))] = value\n",
    "    print 'data', data.dtype\n",
    "    return data"
   ]
  },
  {
   "cell_type": "markdown",
   "metadata": {},
   "source": [
    "#### We should consider to nomralize to zero mean and unit variance. For KNN <br>\n",
    "from sklearn import preprocessing as preproc <br>\n",
    "X = preproc.scale(X) # Normalize to zero mean and unit variance"
   ]
  },
  {
   "cell_type": "code",
   "execution_count": 42,
   "metadata": {},
   "outputs": [],
   "source": [
    "from scipy.spatial import distance\n",
    "def missing_predictor_as_knn(K, training_data, clean_data):\n",
    "    data = np.copy(training_data)\n",
    "    clean_data = clean_data\n",
    "    n, p = training_data.shape\n",
    "    # row major\n",
    "    for i, row in enumerate(data):\n",
    "        distances = np.zeros(n)\n",
    "        for j in range(p):\n",
    "            if pd.isnull(np.array(row[j], dtype=float)):\n",
    "                # get the index of the nan\n",
    "                # if the value is nan then we want to calculate the knn\n",
    "                for k in range(n):\n",
    "                    distances[k] = distance.euclidean(clean_data[i, :], clean_data[k, :])\n",
    "                    \n",
    "                # Calculate the estimated value of the NaN\n",
    "                index = np.argsort(distances)[1:(K+1)]\n",
    "                wt = sum(distances[index])\n",
    "                W = distances[index] / wt\n",
    "                \n",
    "                nearest_neighbours = clean_data[index, j]\n",
    "                print 'nn', nearest_neighbours.dtype\n",
    "                print 'W', W.dtype\n",
    "\n",
    "                value = np.matmul(W, nearest_neighbours)\n",
    "                data[i,j] = value\n",
    "\n",
    "    return data"
   ]
  },
  {
   "cell_type": "markdown",
   "metadata": {},
   "source": [
    "## Checking if the Nan is removed:\n",
    "### Total of 43 Nans"
   ]
  },
  {
   "cell_type": "code",
   "execution_count": 43,
   "metadata": {},
   "outputs": [
    {
     "ename": "TypeError",
     "evalue": "copy() got an unexpected keyword argument 'dtype'",
     "output_type": "error",
     "traceback": [
      "\u001b[0;31m---------------------------------------------------------------------------\u001b[0m",
      "\u001b[0;31mTypeError\u001b[0m                                 Traceback (most recent call last)",
      "\u001b[0;32m<ipython-input-43-87e28aaeb909>\u001b[0m in \u001b[0;36m<module>\u001b[0;34m()\u001b[0m\n\u001b[1;32m      1\u001b[0m \u001b[0mdata_mean\u001b[0m \u001b[0;34m=\u001b[0m \u001b[0mmissing_predictor_as_mean\u001b[0m\u001b[0;34m(\u001b[0m\u001b[0mtrain_X\u001b[0m\u001b[0;34m[\u001b[0m\u001b[0;34m:\u001b[0m\u001b[0;34m,\u001b[0m\u001b[0;34m:\u001b[0m\u001b[0;34m-\u001b[0m\u001b[0;36m1\u001b[0m\u001b[0;34m]\u001b[0m\u001b[0;34m)\u001b[0m\u001b[0;34m\u001b[0m\u001b[0m\n\u001b[0;32m----> 2\u001b[0;31m \u001b[0mclean_data\u001b[0m \u001b[0;34m=\u001b[0m \u001b[0mmissing_predictor_as_value\u001b[0m\u001b[0;34m(\u001b[0m\u001b[0mtrain_X\u001b[0m\u001b[0;34m[\u001b[0m\u001b[0;34m:\u001b[0m\u001b[0;34m,\u001b[0m\u001b[0;34m:\u001b[0m\u001b[0;34m-\u001b[0m\u001b[0;36m1\u001b[0m\u001b[0;34m]\u001b[0m\u001b[0;34m,\u001b[0m \u001b[0;36m0\u001b[0m\u001b[0;34m)\u001b[0m\u001b[0;34m\u001b[0m\u001b[0m\n\u001b[0m\u001b[1;32m      3\u001b[0m \u001b[0mdata_knn\u001b[0m \u001b[0;34m=\u001b[0m \u001b[0mmissing_predictor_as_knn\u001b[0m\u001b[0;34m(\u001b[0m\u001b[0;36m2\u001b[0m\u001b[0;34m,\u001b[0m \u001b[0mtrain_X\u001b[0m\u001b[0;34m[\u001b[0m\u001b[0;34m:\u001b[0m\u001b[0;34m,\u001b[0m\u001b[0;34m:\u001b[0m\u001b[0;34m-\u001b[0m\u001b[0;36m1\u001b[0m\u001b[0;34m]\u001b[0m\u001b[0;34m,\u001b[0m \u001b[0mclean_data\u001b[0m\u001b[0;34m)\u001b[0m\u001b[0;34m\u001b[0m\u001b[0m\n\u001b[1;32m      4\u001b[0m \u001b[0;32mprint\u001b[0m \u001b[0;34m(\u001b[0m\u001b[0mtrain_X\u001b[0m\u001b[0;34m[\u001b[0m\u001b[0;34m:\u001b[0m\u001b[0;34m,\u001b[0m\u001b[0;36m16\u001b[0m\u001b[0;34m]\u001b[0m\u001b[0;34m)\u001b[0m\u001b[0;34m\u001b[0m\u001b[0m\n\u001b[1;32m      5\u001b[0m \u001b[0;32mprint\u001b[0m \u001b[0;34m(\u001b[0m\u001b[0mdata_knn\u001b[0m\u001b[0;34m[\u001b[0m\u001b[0;34m:\u001b[0m\u001b[0;34m,\u001b[0m\u001b[0;36m16\u001b[0m\u001b[0;34m]\u001b[0m\u001b[0;34m)\u001b[0m\u001b[0;34m\u001b[0m\u001b[0m\n",
      "\u001b[0;32m<ipython-input-41-d33de306740f>\u001b[0m in \u001b[0;36mmissing_predictor_as_value\u001b[0;34m(data_set, value)\u001b[0m\n\u001b[1;32m      1\u001b[0m \u001b[0;32mdef\u001b[0m \u001b[0mmissing_predictor_as_value\u001b[0m\u001b[0;34m(\u001b[0m\u001b[0mdata_set\u001b[0m\u001b[0;34m,\u001b[0m \u001b[0mvalue\u001b[0m\u001b[0;34m)\u001b[0m\u001b[0;34m:\u001b[0m\u001b[0;34m\u001b[0m\u001b[0m\n\u001b[0;32m----> 2\u001b[0;31m     \u001b[0mdata\u001b[0m \u001b[0;34m=\u001b[0m \u001b[0mnp\u001b[0m\u001b[0;34m.\u001b[0m\u001b[0mcopy\u001b[0m\u001b[0;34m(\u001b[0m\u001b[0mdata_set\u001b[0m\u001b[0;34m,\u001b[0m \u001b[0mdtype\u001b[0m\u001b[0;34m=\u001b[0m\u001b[0mfloat\u001b[0m\u001b[0;34m)\u001b[0m\u001b[0;34m\u001b[0m\u001b[0m\n\u001b[0m\u001b[1;32m      3\u001b[0m     \u001b[0mdata\u001b[0m\u001b[0;34m[\u001b[0m\u001b[0mpd\u001b[0m\u001b[0;34m.\u001b[0m\u001b[0misnull\u001b[0m\u001b[0;34m(\u001b[0m\u001b[0mnp\u001b[0m\u001b[0;34m.\u001b[0m\u001b[0marray\u001b[0m\u001b[0;34m(\u001b[0m\u001b[0mdata_set\u001b[0m\u001b[0;34m,\u001b[0m \u001b[0mdtype\u001b[0m\u001b[0;34m=\u001b[0m\u001b[0mfloat\u001b[0m\u001b[0;34m)\u001b[0m\u001b[0;34m)\u001b[0m\u001b[0;34m]\u001b[0m \u001b[0;34m=\u001b[0m \u001b[0mvalue\u001b[0m\u001b[0;34m\u001b[0m\u001b[0m\n\u001b[1;32m      4\u001b[0m     \u001b[0;32mprint\u001b[0m \u001b[0;34m'data'\u001b[0m\u001b[0;34m,\u001b[0m \u001b[0mdata\u001b[0m\u001b[0;34m.\u001b[0m\u001b[0mdtype\u001b[0m\u001b[0;34m\u001b[0m\u001b[0m\n\u001b[1;32m      5\u001b[0m     \u001b[0;32mreturn\u001b[0m \u001b[0mdata\u001b[0m\u001b[0;34m\u001b[0m\u001b[0m\n",
      "\u001b[0;31mTypeError\u001b[0m: copy() got an unexpected keyword argument 'dtype'"
     ]
    }
   ],
   "source": [
    "data_mean = missing_predictor_as_mean(train_X[:,:-1])\n",
    "clean_data = missing_predictor_as_value(train_X[:,:-1], 0)\n",
    "data_knn = missing_predictor_as_knn(2, train_X[:,:-1], clean_data)\n",
    "print (train_X[:,16])\n",
    "print (data_knn[:,16])"
   ]
  },
  {
   "cell_type": "code",
   "execution_count": null,
   "metadata": {
    "collapsed": true
   },
   "outputs": [],
   "source": []
  },
  {
   "cell_type": "code",
   "execution_count": null,
   "metadata": {
    "collapsed": true
   },
   "outputs": [],
   "source": []
  }
 ],
 "metadata": {
  "kernelspec": {
   "display_name": "Python 2",
   "language": "python",
   "name": "python2"
  },
  "language_info": {
   "codemirror_mode": {
    "name": "ipython",
    "version": 2
   },
   "file_extension": ".py",
   "mimetype": "text/x-python",
   "name": "python",
   "nbconvert_exporter": "python",
   "pygments_lexer": "ipython2",
   "version": "2.7.13"
  },
  "varInspector": {
   "cols": {
    "lenName": 16,
    "lenType": 16,
    "lenVar": 40
   },
   "kernels_config": {
    "python": {
     "delete_cmd_postfix": "",
     "delete_cmd_prefix": "del ",
     "library": "var_list.py",
     "varRefreshCmd": "print(var_dic_list())"
    },
    "r": {
     "delete_cmd_postfix": ") ",
     "delete_cmd_prefix": "rm(",
     "library": "var_list.r",
     "varRefreshCmd": "cat(var_dic_list()) "
    }
   },
   "types_to_exclude": [
    "module",
    "function",
    "builtin_function_or_method",
    "instance",
    "_Feature"
   ],
   "window_display": false
  }
 },
 "nbformat": 4,
 "nbformat_minor": 2
}
