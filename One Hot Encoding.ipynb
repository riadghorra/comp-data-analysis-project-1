{
 "cells": [
  {
   "cell_type": "code",
   "execution_count": 1,
   "metadata": {
    "collapsed": true
   },
   "outputs": [],
   "source": [
    "import numpy as np"
   ]
  },
  {
   "cell_type": "code",
   "execution_count": 3,
   "metadata": {
    "collapsed": true
   },
   "outputs": [],
   "source": [
    "path = \"./\"\n",
    "dataPath = path + '\\\\Case1_Data-bis.csv'\n",
    "attributeNames = []\n",
    "T = []"
   ]
  },
  {
   "cell_type": "code",
   "execution_count": 4,
   "metadata": {
    "collapsed": true
   },
   "outputs": [],
   "source": [
    "# Dump data file into an array\n",
    "with open(dataPath, \"r\") as ins:\n",
    "    listArray = []\n",
    "    for line in ins:\n",
    "        # Remove junk, irritating formating stuff\n",
    "        listArray.append(line.replace('\\n', '').split('\\t'))"
   ]
  },
  {
   "cell_type": "code",
   "execution_count": 7,
   "metadata": {
    "collapsed": true
   },
   "outputs": [],
   "source": [
    "# Encode data in desired format\n",
    "n = len(listArray) - 1\n",
    "p = len(listArray[0][0].split(',')) - 1-1\n",
    "X = np.zeros((n, p))\n",
    "Xtemp=np.zeros((n,3))\n",
    "for i, data in enumerate(listArray):\n",
    "    dataTemp = data[0].split(',')\n",
    "    if i == 0: # first row is attribute names\n",
    "        attributeNames = dataTemp[1:101]\n",
    "    else:\n",
    "        X[i - 1,:] = dataTemp[1:100]\n",
    "        if dataTemp[100]=='A' :\n",
    "            Xtemp[i-1][0]=1\n",
    "        if dataTemp[100]=='B' :\n",
    "            Xtemp[i-1][1]=1\n",
    "        if dataTemp[100]=='C' :\n",
    "            Xtemp[i-1][2]=1\n",
    "X=np.c_[X,Xtemp]"
   ]
  },
  {
   "cell_type": "code",
   "execution_count": 8,
   "metadata": {
    "collapsed": false
   },
   "outputs": [
    {
     "data": {
      "text/plain": [
       "array([[ 2.07734211,  5.49605572,  5.53072698, ...,  0.        ,\n",
       "         0.        ,  1.        ],\n",
       "       [ 1.06899184,  3.67398331,  6.23827674, ...,  0.        ,\n",
       "         0.        ,  1.        ],\n",
       "       [ 5.90134205,  4.30552147,  4.85035287, ...,  1.        ,\n",
       "         0.        ,  0.        ],\n",
       "       ..., \n",
       "       [ 1.31320233,  5.12764959,  5.99591202, ...,  1.        ,\n",
       "         0.        ,  0.        ],\n",
       "       [ 2.48003741,  5.63283419,  3.27936051, ...,  1.        ,\n",
       "         0.        ,  0.        ],\n",
       "       [-1.50284478,  3.8674899 ,  4.57184224, ...,  0.        ,\n",
       "         0.        ,  1.        ]])"
      ]
     },
     "execution_count": 8,
     "metadata": {},
     "output_type": "execute_result"
    }
   ],
   "source": [
    "X\n"
   ]
  },
  {
   "cell_type": "code",
   "execution_count": null,
   "metadata": {
    "collapsed": true
   },
   "outputs": [],
   "source": []
  }
 ],
 "metadata": {
  "anaconda-cloud": {},
  "kernelspec": {
   "display_name": "Python [default]",
   "language": "python",
   "name": "python3"
  },
  "language_info": {
   "codemirror_mode": {
    "name": "ipython",
    "version": 3
   },
   "file_extension": ".py",
   "mimetype": "text/x-python",
   "name": "python",
   "nbconvert_exporter": "python",
   "pygments_lexer": "ipython3",
   "version": "3.5.2"
  }
 },
 "nbformat": 4,
 "nbformat_minor": 1
}
