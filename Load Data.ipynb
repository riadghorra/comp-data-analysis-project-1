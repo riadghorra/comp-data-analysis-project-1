{
 "cells": [
  {
   "cell_type": "code",
   "execution_count": null,
   "metadata": {},
   "outputs": [],
   "source": [
    "import numpy as np\n",
    "import pandas as pd\n",
    "from IPython.display import display, HTML\n",
    "import matplotlib.pyplot as plt\n",
    "%matplotlib inline\n",
    "\n",
    "# load and display data\n",
    "data = pd.read_csv('Case1_Data.csv')\n",
    "pd.options.display.max_rows = 100\n",
    "pd.options.display.max_columns = 100\n",
    "\n",
    "display(data)"
   ]
  },
  {
   "cell_type": "code",
   "execution_count": null,
   "metadata": {},
   "outputs": [],
   "source": [
    "# split data in training / prediction based of Y value\n",
    "training = data.loc[data['Y'].notnull()]\n",
    "prediction = data.loc[data['Y'].isnull()]\n",
    "\n",
    "print 'We have', len(training), 'training observations and', len(prediction), 'prediction observations'"
   ]
  },
  {
   "cell_type": "code",
   "execution_count": null,
   "metadata": {},
   "outputs": [],
   "source": [
    "train_y = training['Y'].as_matrix()\n",
    "train_X = training[[col for col in training.columns if col != 'Y']].as_matrix()\n"
   ]
  },
  {
   "cell_type": "code",
   "execution_count": null,
   "metadata": {},
   "outputs": [],
   "source": [
    "# data preprocessing\n",
    "\n",
    "def oneOutOfK(data, col_num, removeOriginal=True):\n",
    "    '''Takes the column specified and created one \n",
    "    out of K binary columns for the values in that\n",
    "    column. If removeOriginal is set to True, the \n",
    "    original column will be taken out of the data.\n",
    "    Returns a numpy array.'''\n",
    "    [n, p] = data.shape\n",
    "    values = data[:, col_num]\n",
    "    new_cols = sorted(list(set(values)))\n",
    "    for col in new_cols:\n",
    "        new_col = np.array([1 if row[col_num] == col else 0 for row in data])\n",
    "        data = np.append(data, new_col.reshape((n, 1)), axis=1)\n",
    "    if removeOriginal:\n",
    "        data = np.delete(data, col_num, axis=1)\n",
    "    return data\n",
    "   \n",
    "def missing_value_as_mean(training_data):\n",
    "    data = training_data\n",
    "    for i, column in enumerate(data.T[:-1,:]):\n",
    "            # column = train_X[column].as_matrix()\n",
    "            column_without_nan = column[~np.isnan(np.array(column, dtype=float))]\n",
    "            column_mean = column_without_nan.mean()\n",
    "            # print( column_without_nan.mean() )\n",
    "            for predictor_index in range(len(column)):\n",
    "                if pd.isnull(np.array(column[predictor_index], dtype=float)):\n",
    "                    column[predictor_index] = column_mean\n",
    "\n",
    "            data.T[i, :] = column\n",
    "    return data\n",
    "\n",
    "train_X = oneOutOfK(train_X, 99)\n",
    "train_X = missing_value_as_mean(train_X)"
   ]
  },
  {
   "cell_type": "code",
   "execution_count": null,
   "metadata": {},
   "outputs": [],
   "source": [
    "import pylab \n",
    "import scipy.stats as stats\n",
    "\n",
    "# exploring y\n",
    "plt.plot(sorted(train_y), '.')\n",
    "plt.ylabel('y')\n",
    "plt.title('Scatterplot of y values')\n",
    "plt.show()\n",
    "\n",
    "plt.boxplot(train_y)\n",
    "plt.ylabel('y')\n",
    "plt.title('Boxplot of y')\n",
    "plt.show()\n",
    "\n",
    "stats.probplot(train_y, dist=\"norm\", plot=pylab)\n",
    "pylab.show()"
   ]
  },
  {
   "cell_type": "code",
   "execution_count": null,
   "metadata": {},
   "outputs": [],
   "source": [
    "# correlation plots for top correlated attributes\n",
    "top = 5\n",
    "\n",
    "corr_array = []\n",
    "\n",
    "# calculate correlation between all vars and y\n",
    "for col in train_X.T:\n",
    "    corr_coef = np.corrcoef(col.astype(float), train_y)\n",
    "    corr_array.append(corr_coef[0][1])\n",
    "\n",
    "# select top correlation indeces\n",
    "corr_ind = np.argpartition(np.abs(corr_array), -top)[-top:]\n",
    "\n",
    "# select top columns correlated with y\n",
    "pairs_data = train_X[:, corr_ind]\n",
    "\n",
    "[n] = train_y.shape\n",
    "\n",
    "# add y\n",
    "pairs_data = np.append(pairs_data, train_y.reshape((n, 1)), axis=1)\n",
    "\n",
    "[_, size] = pairs_data.shape\n",
    "\n",
    "f, axarr = plt.subplots(size, size, figsize=(10,10))\n",
    "\n",
    "# column header with correlation value to y (or y)\n",
    "headers = [str(round(corr_array[ind], 2)) for ind in corr_ind] + ['y']\n",
    "\n",
    "# plot \n",
    "for i in range(size ):\n",
    "    for j in range(size ):\n",
    "\n",
    "        axarr[i, j].plot(pairs_data[:,i], pairs_data[:,j], '.')\n",
    "        if i==size-1:\n",
    "            axarr[i, j].set_xlabel(headers[j], fontsize=10)\n",
    "        else:\n",
    "            axarr[i, j].set_xticks([])\n",
    "        if j==0:\n",
    "            axarr[i, j].set_ylabel(headers[i], fontsize=10)\n",
    "        else:\n",
    "            axarr[i, j].set_yticks([])"
   ]
  },
  {
   "cell_type": "code",
   "execution_count": null,
   "metadata": {},
   "outputs": [],
   "source": [
    "# basic OLS\n",
    "\n",
    "import scipy.linalg as lng\n",
    "\n",
    "[n, p] = np.shape(train_X)\n",
    "\n",
    "off = np.ones(n)\n",
    "M = np.c_[off, train_X.astype('float')] # Include offset / intercept\n",
    "\n",
    "# Linear solver\n",
    "beta, res, rnk, s = lng.lstsq(M, train_y.astype('float'))\n",
    "\n",
    "beta\n",
    "\n",
    "yhat = np.matmul(M, beta)\n",
    "\n",
    "# Same residuals as above\n",
    "res = (train_y - yhat) ** 2\n",
    "\n",
    "rss = np.sum(res)\n",
    "mse = np.mean(res)\n",
    "tss = np.sum((train_y - np.mean(train_y))** 2)\n",
    "r2 = (1 - rss / tss) * 100\n",
    "\n",
    "print 'For basic OLS we get MSE =', mse\n",
    "\n"
   ]
  },
  {
   "cell_type": "code",
   "execution_count": null,
   "metadata": {},
   "outputs": [],
   "source": []
  }
 ],
 "metadata": {
  "kernelspec": {
   "display_name": "Python 2",
   "language": "python",
   "name": "python2"
  },
  "language_info": {
   "codemirror_mode": {
    "name": "ipython",
    "version": 2
   },
   "file_extension": ".py",
   "mimetype": "text/x-python",
   "name": "python",
   "nbconvert_exporter": "python",
   "pygments_lexer": "ipython2"
  },
  "varInspector": {
   "cols": {
    "lenName": 16,
    "lenType": 16,
    "lenVar": 40
   },
   "kernels_config": {
    "python": {
     "delete_cmd_postfix": "",
     "delete_cmd_prefix": "del ",
     "library": "var_list.py",
     "varRefreshCmd": "print(var_dic_list())"
    },
    "r": {
     "delete_cmd_postfix": ") ",
     "delete_cmd_prefix": "rm(",
     "library": "var_list.r",
     "varRefreshCmd": "cat(var_dic_list()) "
    }
   },
   "position": {
    "height": "144px",
    "left": "1051.22px",
    "right": "20px",
    "top": "120px",
    "width": "350px"
   },
   "types_to_exclude": [
    "module",
    "function",
    "builtin_function_or_method",
    "instance",
    "_Feature"
   ],
   "window_display": true
  }
 },
 "nbformat": 4,
 "nbformat_minor": 2
}
